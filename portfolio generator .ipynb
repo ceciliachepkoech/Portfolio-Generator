{
 "cells": [
  {
   "cell_type": "code",
   "execution_count": 20,
   "id": "f7c42bf3",
   "metadata": {},
   "outputs": [],
   "source": [
    "import random"
   ]
  },
  {
   "cell_type": "code",
   "execution_count": null,
   "id": "fe641d8b",
   "metadata": {},
   "outputs": [],
   "source": []
  },
  {
   "cell_type": "code",
   "execution_count": 21,
   "id": "8533f131",
   "metadata": {},
   "outputs": [],
   "source": [
    "import csv\n",
    "import pandas as pd\n",
    "import re\n",
    "\n",
    "# downloaded a list of all current listed stocks on the NASDAQ & NYSE\n",
    "nasdaq = pd.read_csv(f'nasdaq.csv')\n",
    "nyse = pd.read_csv(f'nyse.csv')\n",
    "\n",
    "#found the symbols ONLY in order to choose appropriate ticker\n",
    "\n",
    "nasdaq_symbols = (nasdaq['Symbol'])\n",
    "nyse_symbols = (nyse['Symbol'])\n",
    "\n",
    "# had to convert from column to list in order to access them as strings \n",
    "nasdaq_list = nasdaq_symbols.values.tolist()\n",
    "nyse_list =  nyse_symbols.values.tolist()\n",
    "\n"
   ]
  },
  {
   "cell_type": "code",
   "execution_count": 47,
   "id": "135f9fc4",
   "metadata": {},
   "outputs": [
    {
     "name": "stdout",
     "output_type": "stream",
     "text": [
      "Z \t https://finance.yahoo.com/quote/Z \t NASDAQ\n",
      "FT \t https://finance.yahoo.com/quote/FT \t NYSE\n",
      "A \t https://finance.yahoo.com/quote/A \t NYSE\n",
      "WWACU \t https://finance.yahoo.com/quote/WWACU \t NASDAQ\n",
      "X \t https://finance.yahoo.com/quote/X \t NYSE\n"
     ]
    }
   ],
   "source": [
    "#created a for loop that takes from the total amount of symbols in both lists\n",
    "for _ in range(total_symbols):\n",
    "    # made sure it gave me 5 random stocks \n",
    "    length = random.randint(1,5)\n",
    "    # made sure they came from these two lists \n",
    "    exchange = random.choice([\"NYSE\", \"NASDAQ\"])\n",
    "    exchange_list = nasdaq_list if exchange == 'NASDAQ' else nyse_list\n",
    "    ticker_options = [t for t in exchange_list if (isinstance(t,str) and len(t) == length)]\n",
    "    ticker = random.choice(ticker_options)\n",
    "    print(f'{ticker} \\t https://finance.yahoo.com/quote/{ticker} \\t {exchange}')"
   ]
  },
  {
   "cell_type": "code",
   "execution_count": 40,
   "id": "bd496dd2",
   "metadata": {},
   "outputs": [],
   "source": [
    "# keep in mind that some of the stocks are crosslisted"
   ]
  },
  {
   "cell_type": "code",
   "execution_count": null,
   "id": "efd99784",
   "metadata": {},
   "outputs": [],
   "source": []
  },
  {
   "cell_type": "code",
   "execution_count": null,
   "id": "3e762c5c",
   "metadata": {},
   "outputs": [],
   "source": []
  }
 ],
 "metadata": {
  "kernelspec": {
   "display_name": "Python 3 (ipykernel)",
   "language": "python",
   "name": "python3"
  },
  "language_info": {
   "codemirror_mode": {
    "name": "ipython",
    "version": 3
   },
   "file_extension": ".py",
   "mimetype": "text/x-python",
   "name": "python",
   "nbconvert_exporter": "python",
   "pygments_lexer": "ipython3",
   "version": "3.9.7"
  }
 },
 "nbformat": 4,
 "nbformat_minor": 5
}
